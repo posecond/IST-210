{
  "nbformat": 4,
  "nbformat_minor": 0,
  "metadata": {
    "colab": {
      "name": "Lab 2.ipynb",
      "provenance": [],
      "collapsed_sections": [],
      "authorship_tag": "ABX9TyMu/2k0VXSmor7cpA50lwr1",
      "include_colab_link": true
    },
    "kernelspec": {
      "name": "python3",
      "display_name": "Python 3"
    }
  },
  "cells": [
    {
      "cell_type": "markdown",
      "metadata": {
        "id": "view-in-github",
        "colab_type": "text"
      },
      "source": [
        "<a href=\"https://colab.research.google.com/github/posecond/IST-210/blob/master/Lab_2.ipynb\" target=\"_parent\"><img src=\"https://colab.research.google.com/assets/colab-badge.svg\" alt=\"Open In Colab\"/></a>"
      ]
    },
    {
      "cell_type": "markdown",
      "metadata": {
        "id": "VjVjXk6KILSb",
        "colab_type": "text"
      },
      "source": [
        "![alt text](https://github.com/posecond/IST-210/blob/master/Lab%202/Lab%202.png?raw=true)\n",
        "#Lab 2\n",
        "##Pet Store ER Diagram\n",
        "Basically, I have 6 Entities, which are pet, adoption, pet food, pet food purchase, customer, and enclosure. There could be other entities like shelf and employee.\n",
        "- For pet, there are 6 attributes, and the primary key is PetID. It is used to keep information about pets in the store: name, breed, pet food, price, and enclosure. A pet must enclosed in only one place. I assume a pet eats and only eats one kind of pet food. A pet could be adopted by only one customer, or it's not adopted.\n",
        "\n",
        "- For adoption, there are 5 attributes, and the primary key is AdoptionID. It's used to track the adoption. One adoption could issue one or more pets (you could buy lots of fish for one time). One adoption could only be done by one customer.\n",
        "\n",
        "- For pet food, there are 3 attribute, and the primary key is PetFoodID. It keeps data about pet foods in the store. A certain type of pet food could be eat by 0 to many pets. A pet food could be purchased 0 to many times.\n",
        "\n",
        "- For pet food purchase, there are 6 attributes, and the primary key is FoodTransactionID. It tracks pet food purchases. A purchase could be done by only one customer. A purchase could issue one to more pet foods.\n",
        "\n",
        "- For customer, there are 5 attributes, and the primary key is CustomerID. It's used to keep customer information. The PhoneNum could be secondary key for retrieving. The loyaltyship is also tracked in the table. A customer could buy 0 to many pet food and adopt 0 to many pets.\n",
        "\n",
        "- For enclosure, there are 3 attributes, and the primary key is EnclosureID. It's used to track enclosure data. A place (case, room, etc.) could keep 0 to many pets."
      ]
    }
  ]
}
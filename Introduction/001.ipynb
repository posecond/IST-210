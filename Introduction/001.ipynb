{
  "nbformat": 4,
  "nbformat_minor": 0,
  "metadata": {
    "colab": {
      "name": "001.ipynb",
      "provenance": [],
      "toc_visible": true,
      "authorship_tag": "ABX9TyNJBH7JZtupNinx67u5Ang8",
      "include_colab_link": true
    },
    "kernelspec": {
      "name": "python3",
      "display_name": "Python 3"
    }
  },
  "cells": [
    {
      "cell_type": "markdown",
      "metadata": {
        "id": "view-in-github",
        "colab_type": "text"
      },
      "source": [
        "<a href=\"https://colab.research.google.com/github/posecond/IST-210/blob/master/001.ipynb\" target=\"_parent\"><img src=\"https://colab.research.google.com/assets/colab-badge.svg\" alt=\"Open In Colab\"/></a>"
      ]
    },
    {
      "cell_type": "code",
      "metadata": {
        "id": "G9sN_b3gzEOE",
        "colab_type": "code",
        "colab": {
          "base_uri": "https://localhost:8080/",
          "height": 34
        },
        "outputId": "b092195f-a075-4a48-d15c-20c1fe4c1cea"
      },
      "source": [
        "2+2"
      ],
      "execution_count": 5,
      "outputs": [
        {
          "output_type": "execute_result",
          "data": {
            "text/plain": [
              "4"
            ]
          },
          "metadata": {
            "tags": []
          },
          "execution_count": 5
        }
      ]
    },
    {
      "cell_type": "markdown",
      "metadata": {
        "id": "wNlYmGHk0AuS",
        "colab_type": "text"
      },
      "source": [
        "2+2=4\n",
        "This is my first notebook"
      ]
    },
    {
      "cell_type": "code",
      "metadata": {
        "id": "d-f53tAazwqC",
        "colab_type": "code",
        "colab": {
          "base_uri": "https://localhost:8080/",
          "height": 34
        },
        "outputId": "b0194d62-57d5-4611-c7d0-eba6b8467c42"
      },
      "source": [
        "2+3"
      ],
      "execution_count": 4,
      "outputs": [
        {
          "output_type": "execute_result",
          "data": {
            "text/plain": [
              "5"
            ]
          },
          "metadata": {
            "tags": []
          },
          "execution_count": 4
        }
      ]
    },
    {
      "cell_type": "markdown",
      "metadata": {
        "id": "2Uw-8Rys0pzI",
        "colab_type": "text"
      },
      "source": [
        "#This is a header"
      ]
    },
    {
      "cell_type": "markdown",
      "metadata": {
        "id": "Kqm9ApGi4eRT",
        "colab_type": "text"
      },
      "source": [
        ""
      ]
    },
    {
      "cell_type": "markdown",
      "metadata": {
        "id": "mT8GEa8Y0xzB",
        "colab_type": "text"
      },
      "source": [
        "This is **bold**"
      ]
    },
    {
      "cell_type": "markdown",
      "metadata": {
        "id": "GGH9tDKp4bkd",
        "colab_type": "text"
      },
      "source": [
        "![alt text](https://avatars2.githubusercontent.com/u/31117306?s=460&v=4)"
      ]
    }
  ]
}

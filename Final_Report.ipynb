{
  "nbformat": 4,
  "nbformat_minor": 0,
  "metadata": {
    "colab": {
      "name": "Final Report.ipynb",
      "provenance": [],
      "collapsed_sections": [],
      "authorship_tag": "ABX9TyMl+mM4BhMINBAYgUru1fKb",
      "include_colab_link": true
    },
    "kernelspec": {
      "name": "python3",
      "display_name": "Python 3"
    }
  },
  "cells": [
    {
      "cell_type": "markdown",
      "metadata": {
        "id": "view-in-github",
        "colab_type": "text"
      },
      "source": [
        "<a href=\"https://colab.research.google.com/github/posecond/IST-210/blob/master/Final_Report.ipynb\" target=\"_parent\"><img src=\"https://colab.research.google.com/assets/colab-badge.svg\" alt=\"Open In Colab\"/></a>"
      ]
    },
    {
      "cell_type": "markdown",
      "metadata": {
        "id": "JcbhipxK7LvH",
        "colab_type": "text"
      },
      "source": [
        "##Intro\n",
        "For one of our unique ideas, we want to create a database that analyzes various components of the National Basketball Association. We intend to create this database as a use for owners and general managers for each given team as a way to track five different entities that could help manage the team’s players, track their statistics, compare schedules, track attendance and follow incoming revenue. The goal of this database is to make these types of information available and ready to use as quickly as possible, so the management team for their respective NBA teams can make decisions various things like lineups for the games, when to schedule games, how to adjust the lineups to better suit the teams success, and changes to the arena itself to increase attendance and revenue. What makes this idea unique is that today no such database exists. Some databases exist for the individual entities such as Statistics trackers. Our database plans to create something that combines these entities into one easy, accessible place, so as much information is available to help make a decision about the welfare of the team. A basic day in this business will go a bit something like this: Each entity will act as a sort of ‘department’ that has a team dedicated to tracking and analyzing its respective entity, and once that occurs, those analyses will be uploaded to the main database(which is the one the end user will see). Finally, there will be an extra team that is dedicated to ‘cleaning up and refining’ the main/final database that will actually be used by the owners of the respective NBA teams\n"
      ]
    },
    {
      "cell_type": "markdown",
      "metadata": {
        "id": "8Edzr2M27Qv5",
        "colab_type": "text"
      },
      "source": [
        "##EER Diagram\n",
        "For our final Enhanced Entity Relationship diagram, our group decided that the following tables were necessary four building our database and then this diagram will help set the foundation for it. The following tables comprise of our database: Players, Teams, Schedule, Attendance and Statistics. All of these tables will deem useful for any manager who is trying to build an NBA team. The Player Table will hold information like a unique playerid, salary, minutes, and season ending totals to track progress at the end of the season. The Team Table will hold information like a unique TeamID for each NBA team home and away, Venue, Coaches,Managers,Trainers, and a foreign value of playerid. The Statistics table will keep track of player stats like Assists, Rebounds, Minutes, points, and compile at the end of the season. The Attendance table keeps track of the non basketball side of things and more of the business side of the NBA like customers, length of game, Venue, Revenue and Customers. The schedule table will take care of Dates,venues and contain a foreign value of TeamID from the team table.\n",
        "![alt text](https://github.com/posecond/IST-210/blob/master/Screen%20Shot%202020-04-28%20at%2000.00.33.png?raw=true)\n",
        "\n"
      ]
    },
    {
      "cell_type": "markdown",
      "metadata": {
        "id": "NovDDvHO7WLo",
        "colab_type": "text"
      },
      "source": [
        "##Business Scenario\n",
        "Within our database owners and general managers can track stats, compare schedules, check their attendance and revenue. They would be able to pull data and therefore make informed decisions that may lead to changes to their arenas and attendance. These changes could ultimately lead to more effective arena choices thus more revenue. The owner could pull attendance numbers from all venues and compare what is leading to higher revenue. This database would also allow the user to compare all team schedules this would allow them to make adjustments to their own if needed. It can also be used to look at and compare players’ stats. This could be used when making trades or seeing gaps in your team. This database is also designed to help the general manager  make informed and the most knowledgeable decisions to the team’s roster. The manager will have access to a player's identification, their salary, yearly stats to track progress and how many minutes they play in the game. They can use these various data types to build a roster, make changes like cutting and making trades. The manager will also have the information available to make decisions about the head coach of the team. As many people may know to have a championship winning basketball team, you need to have players that are able to carry out the strategies but you also need to have a coach that will give them the best possible strategy. Now one would ask when would this database become most useful? The answer to that would be before the trade deadline during the season, when teams are drying to dump bad contracts or make late season additions for a playoff push. Another time where this database would deem useful is the summer offseason free agency frenzy where teams spend the most time and effort building their rosters and staff for the upcoming season.\n",
        "\n"
      ]
    },
    {
      "cell_type": "markdown",
      "metadata": {
        "id": "NOvZ-LX57kr7",
        "colab_type": "text"
      },
      "source": [
        "##SQL Based on ER Diagram\n"
      ]
    },
    {
      "cell_type": "code",
      "metadata": {
        "id": "v1pZwr6n7oQ9",
        "colab_type": "code",
        "colab": {}
      },
      "source": [
        "%%sql\n",
        "/*Teams*/\n",
        "CREATE TABLE Teams(\n",
        "Team ID int NOT NULL,\n",
        "Venue int NOT NULL,\n",
        "coacher varchar（255） NOT NULL,\n",
        "trainers varchar（255） NOT NULL,\n",
        "managers varchar（255） NOT NULL,\n",
        "Player ID int NOT NULL,\n",
        "PRIMARY KEY (Team ID)\n",
        ");\n",
        "\n",
        "/*Players*/\n",
        "CREATE TABLE Players(\n",
        "Player ID int NOT NULL,\n",
        "Salary int NOT NULL,\n",
        "Minutes int NOT NULL,\n",
        "Season Stat Totals int NOT NULL,\n",
        "PRIMARY KEY (Player ID)\n",
        ");\n",
        "\n",
        "/Attendance\n",
        "CREATE TABLE Attendance(\n",
        "  Venue VARCHAR(20),\n",
        "  Customers INT,\n",
        "  Length  INT,\n",
        "  Accomodations  VARCHAR(20),\n",
        "  Revenue  VARCHAR(20),      \n",
        "  PRIMARY KEY (Venue)\n",
        ");\n",
        "\n",
        "/Schedule\n",
        "CREATE TABLE Schedule(\n",
        "  Dates DATE,\n",
        "  Venues VARCHAR(20),\n",
        "  Attendance INT,\n",
        "  Managers  VARCHAR(20),\n",
        "  TeamID  INT NOT NULL,      \n",
        "  PRIMARY KEY (Dates)\n",
        ");\n",
        "\n",
        "/Statistics\n",
        "CREATE TABLE Statistics(\n",
        "  SeasonStatTotals INT,\n",
        "  Assists INT,\n",
        "  Rebounds  INT,\n",
        "  Points  INT,\n",
        "  Minutes  INT,      \n",
        "  PRIMARY KEY (SeasonStatTotals)\n",
        ");\n"
      ],
      "execution_count": 0,
      "outputs": []
    },
    {
      "cell_type": "markdown",
      "metadata": {
        "id": "hcVPmfeC7wpL",
        "colab_type": "text"
      },
      "source": [
        "##3 queries\n",
        "\n",
        "1.\n",
        "SELECT s.AVG(Salary) FROM Players s, Teams t WHERE t.PlayerID = s.PlayerID and TeamID = XXX\n",
        " \n",
        "By using this query, our user could get the average salary of the players of their team (XXX, they can change it to the team name to get the team they want). They can also change the AVG() to SUM() to know the total salary they paid. It’s useful for team management.\n",
        "\n",
        "2.\n",
        "DELETE FROM Players WHERE PlayerID = XX\n",
        " \n",
        "This query is to delete the information about a player. It could be simple used when a player retired. The manager could type in the playerID to choose the player. However, if the user still want the statistics, they can choose to delete the playerID in the Teams table instead of the players table.\n",
        "\n",
        "3.\n",
        "SELECT MIN(Schedule.Dates – date(‘now’)) FROM Schedule WHERE Schedule.Datese – date(‘now’) > 0 \n",
        " \n",
        "This query is to find out the nearst game scheduled in the future. It is essential to know the date of next game and how many days left for preparation. If the user only wants to know the date, they can add “,*” to the query to know all the information about the next game.\n"
      ]
    }
  ]
}
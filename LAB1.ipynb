{
  "nbformat": 4,
  "nbformat_minor": 0,
  "metadata": {
    "colab": {
      "name": "LAB1.ipynb",
      "provenance": [],
      "collapsed_sections": [],
      "authorship_tag": "ABX9TyN16QFR2usFsuDhZQZ1+ZVf",
      "include_colab_link": true
    },
    "kernelspec": {
      "name": "python3",
      "display_name": "Python 3"
    }
  },
  "cells": [
    {
      "cell_type": "markdown",
      "metadata": {
        "id": "view-in-github",
        "colab_type": "text"
      },
      "source": [
        "<a href=\"https://colab.research.google.com/github/posecond/IST-210/blob/master/LAB1.ipynb\" target=\"_parent\"><img src=\"https://colab.research.google.com/assets/colab-badge.svg\" alt=\"Open In Colab\"/></a>"
      ]
    },
    {
      "cell_type": "markdown",
      "metadata": {
        "id": "lCvswJkI7VP9",
        "colab_type": "text"
      },
      "source": [
        "###Name\n",
        "Tianzheng Meng"
      ]
    },
    {
      "cell_type": "markdown",
      "metadata": {
        "id": "JGzNgmdt7mbL",
        "colab_type": "text"
      },
      "source": [
        "###IST related interests\n",
        "None, actually."
      ]
    },
    {
      "cell_type": "markdown",
      "metadata": {
        "id": "OLV1ARcR7saR",
        "colab_type": "text"
      },
      "source": [
        "###Future job/career\n",
        "I have no idea. Maybe IST-related."
      ]
    },
    {
      "cell_type": "markdown",
      "metadata": {
        "id": "EwE3mkXt75h0",
        "colab_type": "text"
      },
      "source": [
        "###Picture of myself\n",
        "![me](https://raw.githubusercontent.com/posecond/IST-210/master/Introduction/new.jpg)"
      ]
    }
  ]
}